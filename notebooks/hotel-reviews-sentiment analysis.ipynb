{
 "cells": [
  {
   "cell_type": "code",
   "execution_count": 3,
   "metadata": {
    "collapsed": true,
    "pycharm": {
     "is_executing": false
    }
   },
   "outputs": [],
   "source": [
    "import numpy as np \n",
    "import pandas as pd \n",
    "import re\n",
    "import nltk \n",
    "import matplotlib.pyplot as plt\n",
    "%matplotlib inline"
   ]
  },
  {
   "cell_type": "code",
   "execution_count": 4,
   "outputs": [
    {
     "data": {
      "text/plain": "   id                                               name  \\\n0  84                        Excellent trainer and coach   \n1  85                               Gym and staff review   \n2  86                                   Quality services   \n3  87  Good results after my first 3 months with coac...   \n4  88                                    Gym consistency   \n\n                            hotel  \\\n0  Golden Tulip Westlands Nairobi   \n1  Golden Tulip Westlands Nairobi   \n2  Golden Tulip Westlands Nairobi   \n3  Golden Tulip Westlands Nairobi   \n4  Golden Tulip Westlands Nairobi   \n\n                                              review        date sentiment  \\\n0  Moses was professional and really helped me fo...  March 2021  positive   \n1  The gym has excellent facilities and dedicated...  March 2021  positive   \n2  This is one of the best hotels with quality se...  March 2021  positive   \n3  Having being consistency in my training since ...  March 2021  positive   \n4  Well equipped, great push to exterior limits  ...  March 2021  positive   \n\n      score  \n0  0.394284  \n1  0.405347  \n2  0.496719  \n3  0.152437  \n4  0.183477  ",
      "text/html": "<div>\n<style scoped>\n    .dataframe tbody tr th:only-of-type {\n        vertical-align: middle;\n    }\n\n    .dataframe tbody tr th {\n        vertical-align: top;\n    }\n\n    .dataframe thead th {\n        text-align: right;\n    }\n</style>\n<table border=\"1\" class=\"dataframe\">\n  <thead>\n    <tr style=\"text-align: right;\">\n      <th></th>\n      <th>id</th>\n      <th>name</th>\n      <th>hotel</th>\n      <th>review</th>\n      <th>date</th>\n      <th>sentiment</th>\n      <th>score</th>\n    </tr>\n  </thead>\n  <tbody>\n    <tr>\n      <th>0</th>\n      <td>84</td>\n      <td>Excellent trainer and coach</td>\n      <td>Golden Tulip Westlands Nairobi</td>\n      <td>Moses was professional and really helped me fo...</td>\n      <td>March 2021</td>\n      <td>positive</td>\n      <td>0.394284</td>\n    </tr>\n    <tr>\n      <th>1</th>\n      <td>85</td>\n      <td>Gym and staff review</td>\n      <td>Golden Tulip Westlands Nairobi</td>\n      <td>The gym has excellent facilities and dedicated...</td>\n      <td>March 2021</td>\n      <td>positive</td>\n      <td>0.405347</td>\n    </tr>\n    <tr>\n      <th>2</th>\n      <td>86</td>\n      <td>Quality services</td>\n      <td>Golden Tulip Westlands Nairobi</td>\n      <td>This is one of the best hotels with quality se...</td>\n      <td>March 2021</td>\n      <td>positive</td>\n      <td>0.496719</td>\n    </tr>\n    <tr>\n      <th>3</th>\n      <td>87</td>\n      <td>Good results after my first 3 months with coac...</td>\n      <td>Golden Tulip Westlands Nairobi</td>\n      <td>Having being consistency in my training since ...</td>\n      <td>March 2021</td>\n      <td>positive</td>\n      <td>0.152437</td>\n    </tr>\n    <tr>\n      <th>4</th>\n      <td>88</td>\n      <td>Gym consistency</td>\n      <td>Golden Tulip Westlands Nairobi</td>\n      <td>Well equipped, great push to exterior limits  ...</td>\n      <td>March 2021</td>\n      <td>positive</td>\n      <td>0.183477</td>\n    </tr>\n  </tbody>\n</table>\n</div>"
     },
     "metadata": {},
     "output_type": "execute_result",
     "execution_count": 4
    }
   ],
   "source": [
    "data = pd.read_csv('../data/hotel_reviews.csv')\n",
    "\n",
    "data.head()"
   ],
   "metadata": {
    "collapsed": false,
    "pycharm": {
     "name": "#%%\n",
     "is_executing": false
    }
   }
  },
  {
   "cell_type": "code",
   "execution_count": 5,
   "outputs": [],
   "source": [
    "reviews = data['review'].values\n",
    "sentiments = data['sentiment'].values"
   ],
   "metadata": {
    "collapsed": false,
    "pycharm": {
     "name": "#%%\n",
     "is_executing": false
    }
   }
  },
  {
   "cell_type": "code",
   "execution_count": 6,
   "outputs": [],
   "source": [
    "processed_reviews = []\n",
    "\n",
    "for sentence in range(0, len(reviews)):\n",
    "    # Remove all the special characters\n",
    "    processed_review = re.sub(r'\\W', ' ', str(reviews[sentence]))\n",
    "\n",
    "    # remove all single characters\n",
    "    processed_review = re.sub(r'\\s+[a-zA-Z]\\s+', ' ', processed_review)\n",
    "\n",
    "    # Remove single characters from the start\n",
    "    processed_review = re.sub(r'\\^[a-zA-Z]\\s+', ' ', processed_review) \n",
    "\n",
    "    # Substituting multiple spaces with single space\n",
    "    processed_review = re.sub(r'\\s+', ' ', processed_review, flags=re.I)\n",
    "\n",
    "    # Removing prefixed 'b'\n",
    "    processed_review = re.sub(r'^b\\s+', '', processed_review)\n",
    "\n",
    "    # Converting to Lowercase\n",
    "    processed_review = processed_review.lower()\n",
    "\n",
    "    processed_reviews.append(processed_review)"
   ],
   "metadata": {
    "collapsed": false,
    "pycharm": {
     "name": "#%%\n",
     "is_executing": false
    }
   }
  },
  {
   "cell_type": "code",
   "execution_count": 7,
   "outputs": [],
   "source": [
    "from nltk.corpus import stopwords\n",
    "from sklearn.feature_extraction.text import TfidfVectorizer"
   ],
   "metadata": {
    "collapsed": false,
    "pycharm": {
     "name": "#%%\n",
     "is_executing": false
    }
   }
  },
  {
   "cell_type": "code",
   "execution_count": 8,
   "outputs": [],
   "source": [
    "vectorizer = TfidfVectorizer (max_features=2500, min_df=7, max_df=0.8, stop_words=stopwords.words('english'))\n",
    "processed_reviews = vectorizer.fit_transform(processed_reviews).toarray()"
   ],
   "metadata": {
    "collapsed": false,
    "pycharm": {
     "name": "#%%\n",
     "is_executing": false
    }
   }
  },
  {
   "cell_type": "code",
   "execution_count": 9,
   "outputs": [],
   "source": [
    "from sklearn.model_selection import train_test_split\n",
    "\n",
    "X_train, X_test, y_train, y_test = train_test_split(processed_reviews, sentiments, test_size=0.2, random_state=0)"
   ],
   "metadata": {
    "collapsed": false,
    "pycharm": {
     "name": "#%%\n",
     "is_executing": false
    }
   }
  },
  {
   "cell_type": "code",
   "execution_count": 10,
   "outputs": [
    {
     "data": {
      "text/plain": "SVC(kernel='linear')"
     },
     "metadata": {},
     "output_type": "execute_result",
     "execution_count": 10
    }
   ],
   "source": [
    "from sklearn import svm\n",
    "\n",
    "clf = svm.SVC(kernel='linear') # Linear Kernel\n",
    "\n",
    "clf.fit(X_train, y_train)\n"
   ],
   "metadata": {
    "collapsed": false,
    "pycharm": {
     "name": "#%%\n",
     "is_executing": false
    }
   }
  },
  {
   "cell_type": "code",
   "execution_count": 11,
   "outputs": [],
   "source": [
    "y_pred = clf.predict(X_test)"
   ],
   "metadata": {
    "collapsed": false,
    "pycharm": {
     "name": "#%%\n",
     "is_executing": false
    }
   }
  },
  {
   "cell_type": "code",
   "execution_count": 12,
   "outputs": [
    {
     "name": "stdout",
     "text": [
      "Accuracy: 0.9376740947075209\n"
     ],
     "output_type": "stream"
    }
   ],
   "source": [
    "from sklearn import metrics\n",
    "\n",
    "# Model Accuracy: how often is the classifier correct?\n",
    "print(\"Accuracy:\",metrics.accuracy_score(y_test, y_pred))"
   ],
   "metadata": {
    "collapsed": false,
    "pycharm": {
     "name": "#%%\n",
     "is_executing": false
    }
   }
  },
  {
   "cell_type": "code",
   "execution_count": 13,
   "outputs": [
    {
     "name": "stdout",
     "text": [
      "Precision: 0.9376740947075209\n",
      "Recall: 0.9376740947075209\n"
     ],
     "output_type": "stream"
    }
   ],
   "source": [
    "# Model Precision: what percentage of positive tuples are labeled as such?\n",
    "print(\"Precision:\",metrics.precision_score(y_test, y_pred, average='micro'))\n",
    "\n",
    "# Model Recall: what percentage of positive tuples are labelled as such?\n",
    "print(\"Recall:\",metrics.recall_score(y_test, y_pred, average='micro'))"
   ],
   "metadata": {
    "collapsed": false,
    "pycharm": {
     "name": "#%%\n",
     "is_executing": false
    }
   }
  },
  {
   "cell_type": "code",
   "execution_count": 14,
   "outputs": [
    {
     "name": "stdout",
     "text": [
      "              precision    recall  f1-score   support\n",
      "\n",
      "    negative       0.74      0.31      0.44        90\n",
      "     neutral       0.50      0.01      0.02       116\n",
      "    positive       0.94      1.00      0.97      2666\n",
      "\n",
      "    accuracy                           0.94      2872\n",
      "   macro avg       0.73      0.44      0.47      2872\n",
      "weighted avg       0.92      0.94      0.91      2872\n",
      "\n",
      "0.9376740947075209\n"
     ],
     "output_type": "stream"
    }
   ],
   "source": [
    "from sklearn.metrics import classification_report, confusion_matrix, accuracy_score, plot_confusion_matrix\n",
    "\n",
    "print(classification_report(y_test,y_pred))\n",
    "print(accuracy_score(y_test, y_pred))"
   ],
   "metadata": {
    "collapsed": false,
    "pycharm": {
     "name": "#%%\n",
     "is_executing": false
    }
   }
  },
  {
   "cell_type": "code",
   "execution_count": 15,
   "outputs": [
    {
     "data": {
      "text/plain": "<Figure size 432x288 with 2 Axes>",
      "image/png": "[encoded data removed]"
     },
     "metadata": {
      "needs_background": "light"
     },
     "output_type": "display_data"
    },
    {
     "data": {
      "text/plain": "<Figure size 432x288 with 2 Axes>",
      "image/png": "[encoded data removed]"
     },
     "metadata": {
      "needs_background": "light"
     },
     "output_type": "display_data"
    }
   ],
   "source": [
    "titles_options = [(\"Confusion matrix, without normalization\", None),\n",
    "                  (\"Normalized confusion matrix\", 'true')]\n",
    "for title, normalize in titles_options:\n",
    "    disp = plot_confusion_matrix(clf, X_test, y_test,\n",
    "                                 # display_labels=class_names,\n",
    "                                 cmap=plt.cm.Blues,\n",
    "                                 normalize=normalize)\n",
    "    disp.ax_.set_title(title)\n",
    "\n",
    "plt.show()\n"
   ],
   "metadata": {
    "collapsed": false,
    "pycharm": {
     "name": "#%%\n",
     "is_executing": false
    }
   }
  },
  {
   "cell_type": "code",
   "execution_count": 23,
   "outputs": [
    {
     "name": "stdout",
     "text": [
      "['negative']\n"
     ],
     "output_type": "stream"
    }
   ],
   "source": [
    "from scipy.sparse import csr_matrix\n",
    "\n",
    "review = \"I will never be back and I don't recommend\"\n",
    "\n",
    "review_vector = vectorizer.transform([review])\n",
    "sparse_matrix = csr_matrix(review_vector)\n",
    "dense_matrix = sparse_matrix.todense()\n",
    "\n",
    "print(clf.predict(dense_matrix))\n"
   ],
   "metadata": {
    "collapsed": false,
    "pycharm": {
     "name": "#%%\n",
     "is_executing": false
    }
   }
  }
 ],
 "metadata": {
  "kernelspec": {
   "display_name": "Python 3",
   "language": "python",
   "name": "python3"
  },
  "language_info": {
   "codemirror_mode": {
    "name": "ipython",
    "version": 2
   },
   "file_extension": ".py",
   "mimetype": "text/x-python",
   "name": "python",
   "nbconvert_exporter": "python",
   "pygments_lexer": "ipython2",
   "version": "2.7.6"
  },
  "pycharm": {
   "stem_cell": {
    "cell_type": "raw",
    "source": [],
    "metadata": {
     "collapsed": false
    }
   }
  }
 },
 "nbformat": 4,
 "nbformat_minor": 0
}